{
 "cells": [
  {
   "cell_type": "code",
   "execution_count": 313,
   "metadata": {},
   "outputs": [
    {
     "name": "stdout",
     "output_type": "stream",
     "text": [
      "{'Agent-X', 'Hitler', 'Agent 13'}\n"
     ]
    }
   ],
   "source": [
    "sampleinput = {\"Nick Fury\" : \"Tony Stark, Maria Hill, Norman Osborn\",\n",
    "\n",
    "                \"Hulk\" : \"Tony Stark, HawkEye, Rogers\",\n",
    "\n",
    "                \"Rogers\" : \"Thor\",\n",
    "\n",
    "                \"Tony Stark\": \"Pepper Potts, Nick Fury\",\n",
    "\n",
    "                \"Agent 13\" : \"Agent-X, Nick Fury, Hitler\",\n",
    "\n",
    "                \"Thor\": \"HawkEye, BlackWidow\",\n",
    "\n",
    "                \"BlackWidow\":\"Hawkeye\",\n",
    "\n",
    "                \"Maria Hill\" : \"Hulk, Rogers, Nick Fury\",\n",
    "\n",
    "                \"Agent-X\" : \"Agent 13, Rogers\",\n",
    "\n",
    "                \"Norman Osborn\": \"Tony Stark, Thor\"}\n",
    "\n",
    "\n",
    "\n",
    "shield=[]\n",
    "shield.append('Nick Fury')\n",
    "hydra=[]\n",
    "for (k,v) in sampleinput.items():\n",
    "    reciever=v.rsplit(\", \")\n",
    "    sender=k\n",
    "    if k in shield: \n",
    "        shield.extend(reciever)\n",
    "        for each in range(len(reciever)):\n",
    "            temp=reciever[each]\n",
    "            \n",
    "            if temp in sampleinput.keys():\n",
    "                    n=sampleinput.get(temp.strip())\n",
    "                    \n",
    "                    shield.extend(n.rsplit(\", \"))\n",
    "                   \n",
    "    else: \n",
    "        hydra.append(sender)\n",
    "        hydra.extend(reciever)\n",
    "\n",
    "     \n",
    "mylist = list(dict.fromkeys(shield))\n",
    "mylist2 = list(dict.fromkeys(hydra))\n",
    "hydraa=set(mylist2)\n",
    "agent=set(mylist)\n",
    "z=hydraa.difference(agent)\n",
    "print(z)\n",
    "\n",
    "\n"
   ]
  },
  {
   "cell_type": "code",
   "execution_count": null,
   "metadata": {},
   "outputs": [],
   "source": []
  }
 ],
 "metadata": {
  "kernelspec": {
   "display_name": "Python 3",
   "language": "python",
   "name": "python3"
  },
  "language_info": {
   "codemirror_mode": {
    "name": "ipython",
    "version": 3
   },
   "file_extension": ".py",
   "mimetype": "text/x-python",
   "name": "python",
   "nbconvert_exporter": "python",
   "pygments_lexer": "ipython3",
   "version": "3.8.3"
  }
 },
 "nbformat": 4,
 "nbformat_minor": 4
}
