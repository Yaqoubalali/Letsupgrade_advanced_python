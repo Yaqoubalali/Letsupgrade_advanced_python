{
 "cells": [
  {
   "cell_type": "markdown",
   "metadata": {},
   "source": [
    "# Assignment 1"
   ]
  },
  {
   "cell_type": "code",
   "execution_count": 7,
   "metadata": {},
   "outputs": [
    {
     "name": "stdout",
     "output_type": "stream",
     "text": [
      "[1, 2, 3, 4, 56, 6, 1, 2, 3, 4, 1, 3, 2, 3]\n",
      "Occurance of 1 = 3\n",
      "Occurance of 2 = 3\n",
      "Occurance of 3 = 4\n",
      "Occurance of 4 = 2\n",
      "Occurance of 56 = 1\n",
      "Occurance of 6 = 1\n"
     ]
    }
   ],
   "source": [
    "list3=[1,2,3,4,56,6,1,2,3,4,1,3,2,3]\n",
    "print(list3)\n",
    "list4=list3\n",
    "for i in range(len(set(list4))):\n",
    "    c=list4.count(list4[0])\n",
    "    print(f\"Occurance of {list4[0]} =\",c)\n",
    "    n=list4[0]\n",
    "    for r in range(c):\n",
    "        list4.remove(n)"
   ]
  },
  {
   "cell_type": "markdown",
   "metadata": {},
   "source": [
    "# Assignment 2"
   ]
  },
  {
   "cell_type": "code",
   "execution_count": 51,
   "metadata": {},
   "outputs": [
    {
     "name": "stdout",
     "output_type": "stream",
     "text": [
      "[(10, 4), (90, 3), (9, 1), (10, 4), (9, 5)]\n",
      "[(9, 1), (10, 4), (10, 4), (9, 5), (90, 3)]\n"
     ]
    }
   ],
   "source": [
    "list1=[(10,4),(90,3),(9,1),(10,4),(9,5)]\n",
    "newlist1=[]\n",
    "def calc(x):\n",
    "    s=x[0]+x[1]\n",
    "    return s\n",
    "def sortt(elem):\n",
    "    return elem[1]\n",
    "\n",
    "for each in range(len(list1)):\n",
    "        newlist1.append([each,calc(list1[each])])\n",
    "print(list1)        \n",
    "\n",
    "newlist1.sort(key=sortt)\n",
    "\n",
    "orderlist=[]\n",
    "for each in range(len(newlist1)):\n",
    "    orderlist.append(list1[newlist1[each][0]])\n",
    "print(orderlist)"
   ]
  },
  {
   "cell_type": "markdown",
   "metadata": {},
   "source": [
    "# Assignment 3"
   ]
  },
  {
   "cell_type": "code",
   "execution_count": 61,
   "metadata": {},
   "outputs": [
    {
     "name": "stdout",
     "output_type": "stream",
     "text": [
      "[1, 1, 1, 1, 1, 2, 2, 2, 3, 3, 3, 21, 24, 45, 0, 0, 0, 0, 0, 0]\n"
     ]
    }
   ],
   "source": [
    "list2=[1,2,3,0,2,3,0,1,24,0,1,3,1,0,21,0,1,2,0,45]\n",
    "x=list2.count(0)\n",
    "for each in range(x):\n",
    "    list2.remove(0)\n",
    "list2.sort()\n",
    "for each in range(x):\n",
    "    list2.append(0)\n",
    "    \n",
    "print(list2)\n"
   ]
  },
  {
   "cell_type": "markdown",
   "metadata": {},
   "source": [
    "# Assignment 4"
   ]
  },
  {
   "cell_type": "code",
   "execution_count": 8,
   "metadata": {},
   "outputs": [
    {
     "name": "stdout",
     "output_type": "stream",
     "text": [
      "['192.168.10.09', '192.168.10.4', '192.168.10.11', '192.168.10.35']\n",
      "['192.168.11.4', '192.168.11.9', '192.168.11.11', '192.168.11.35']\n"
     ]
    }
   ],
   "source": [
    "list3=[\"192.168.10.09\",\"192.168.10.4\",\"192.168.10.11\",\"192.168.10.35\"]\n",
    "print(list3)\n",
    "newlist=[]\n",
    "for each in range(len(list3)):\n",
    "    x=list3[each].replace(\"192.168.10.\",\"\")\n",
    "    newlist.append(int(x))\n",
    "    newlist.sort()\n",
    "for each in range(len(newlist)):\n",
    "    newlist[each]=\"192.168.11.\"+str(newlist[each])\n",
    "print(newlist)\n",
    "\n"
   ]
  }
 ],
 "metadata": {
  "kernelspec": {
   "display_name": "Python 3",
   "language": "python",
   "name": "python3"
  },
  "language_info": {
   "codemirror_mode": {
    "name": "ipython",
    "version": 3
   },
   "file_extension": ".py",
   "mimetype": "text/x-python",
   "name": "python",
   "nbconvert_exporter": "python",
   "pygments_lexer": "ipython3",
   "version": "3.8.3"
  }
 },
 "nbformat": 4,
 "nbformat_minor": 4
}
